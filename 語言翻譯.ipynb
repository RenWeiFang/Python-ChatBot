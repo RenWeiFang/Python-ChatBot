{
 "cells": [
  {
   "cell_type": "code",
   "execution_count": 6,
   "id": "305f828e-7663-4c0f-97ec-a87157b11296",
   "metadata": {},
   "outputs": [
    {
     "name": "stdout",
     "output_type": "stream",
     "text": [
      "Requirement already satisfied: googletrans==3.1.0a0 in c:\\users\\a2790\\anaconda3\\envs\\notebook-7.0.8\\lib\\site-packages (3.1.0a0)\n",
      "Requirement already satisfied: httpx==0.13.3 in c:\\users\\a2790\\anaconda3\\envs\\notebook-7.0.8\\lib\\site-packages (from googletrans==3.1.0a0) (0.13.3)\n",
      "Requirement already satisfied: certifi in c:\\users\\a2790\\anaconda3\\envs\\notebook-7.0.8\\lib\\site-packages (from httpx==0.13.3->googletrans==3.1.0a0) (2024.2.2)\n",
      "Requirement already satisfied: hstspreload in c:\\users\\a2790\\anaconda3\\envs\\notebook-7.0.8\\lib\\site-packages (from httpx==0.13.3->googletrans==3.1.0a0) (2024.5.1)\n",
      "Requirement already satisfied: sniffio in c:\\users\\a2790\\anaconda3\\envs\\notebook-7.0.8\\lib\\site-packages (from httpx==0.13.3->googletrans==3.1.0a0) (1.3.0)\n",
      "Requirement already satisfied: chardet==3.* in c:\\users\\a2790\\anaconda3\\envs\\notebook-7.0.8\\lib\\site-packages (from httpx==0.13.3->googletrans==3.1.0a0) (3.0.4)\n",
      "Requirement already satisfied: idna==2.* in c:\\users\\a2790\\anaconda3\\envs\\notebook-7.0.8\\lib\\site-packages (from httpx==0.13.3->googletrans==3.1.0a0) (2.10)\n",
      "Requirement already satisfied: rfc3986<2,>=1.3 in c:\\users\\a2790\\anaconda3\\envs\\notebook-7.0.8\\lib\\site-packages (from httpx==0.13.3->googletrans==3.1.0a0) (1.5.0)\n",
      "Requirement already satisfied: httpcore==0.9.* in c:\\users\\a2790\\anaconda3\\envs\\notebook-7.0.8\\lib\\site-packages (from httpx==0.13.3->googletrans==3.1.0a0) (0.9.1)\n",
      "Requirement already satisfied: h11<0.10,>=0.8 in c:\\users\\a2790\\anaconda3\\envs\\notebook-7.0.8\\lib\\site-packages (from httpcore==0.9.*->httpx==0.13.3->googletrans==3.1.0a0) (0.9.0)\n",
      "Requirement already satisfied: h2==3.* in c:\\users\\a2790\\anaconda3\\envs\\notebook-7.0.8\\lib\\site-packages (from httpcore==0.9.*->httpx==0.13.3->googletrans==3.1.0a0) (3.2.0)\n",
      "Requirement already satisfied: hyperframe<6,>=5.2.0 in c:\\users\\a2790\\anaconda3\\envs\\notebook-7.0.8\\lib\\site-packages (from h2==3.*->httpcore==0.9.*->httpx==0.13.3->googletrans==3.1.0a0) (5.2.0)\n",
      "Requirement already satisfied: hpack<4,>=3.0 in c:\\users\\a2790\\anaconda3\\envs\\notebook-7.0.8\\lib\\site-packages (from h2==3.*->httpcore==0.9.*->httpx==0.13.3->googletrans==3.1.0a0) (3.0.0)\n"
     ]
    }
   ],
   "source": [
    "!pip install googletrans==3.1.0a0"
   ]
  },
  {
   "cell_type": "code",
   "execution_count": 7,
   "id": "a8d3f904-d8ac-42d7-9fbe-a85720ea269e",
   "metadata": {},
   "outputs": [],
   "source": [
    "import speech_recognition\n",
    "import tempfile\n",
    "from gtts import gTTS\n",
    "from pygame import mixer\n",
    "from googletrans import Translator"
   ]
  },
  {
   "cell_type": "code",
   "execution_count": 9,
   "id": "6d38c8e5-3148-4476-ac51-6fe62f88d455",
   "metadata": {},
   "outputs": [],
   "source": [
    "def listenTo():\n",
    "    r=speech_recognition.Recognizer()\n",
    "    with speech_recognition.Microphone() as source:\n",
    "        r.adjust_for_ambient_noise(source)\n",
    "        audio=r.listen(source)\n",
    "        return r.recognize_google(audio,language='zh-TW')"
   ]
  },
  {
   "cell_type": "code",
   "execution_count": 11,
   "id": "4686a97c-0bc1-4196-b89a-2989680ebbee",
   "metadata": {},
   "outputs": [],
   "source": [
    "def speak(sentence,lang):\n",
    "    mixer.init()\n",
    "    with tempfile.NamedTemporaryFile(delete=True) as fp:\n",
    "        tts=gTTS(text=sentence,lang=lang)\n",
    "        tts.save(\"{}.mp3\".format(fp.name))\n",
    "        mixer.music.load('{}.mp3'.format(fp.name))\n",
    "        mixer.music.play()"
   ]
  },
  {
   "cell_type": "code",
   "execution_count": 12,
   "id": "31ee86d5-5f79-48fa-9757-3ed320932bc5",
   "metadata": {},
   "outputs": [
    {
     "data": {
      "text/plain": [
       "'Hello everyone'"
      ]
     },
     "execution_count": 12,
     "metadata": {},
     "output_type": "execute_result"
    }
   ],
   "source": [
    "translator = Translator()\n",
    "translator.translate('大家好',dest='en').text"
   ]
  },
  {
   "cell_type": "code",
   "execution_count": 14,
   "id": "b49b3b64-f503-4fd0-9fa7-aa4a945be500",
   "metadata": {},
   "outputs": [
    {
     "name": "stdout",
     "output_type": "stream",
     "text": [
      "こんにちは、みんな\n",
      "Translated(src=ja, dest=ja, text=こんにちは、みんな, pronunciation=Kon'nichiwa, min'na, extra_data=\"{'confiden...\")\n"
     ]
    }
   ],
   "source": [
    "lang='ja'\n",
    "A=translator.translate(listenTo(),lang).text\n",
    "speak(A,lang)\n",
    "print(A)\n",
    "B=translator.translate(A,dest='ja')\n",
    "print(B)"
   ]
  },
  {
   "cell_type": "code",
   "execution_count": 15,
   "id": "bfc231a1-260d-4043-81e9-6d9c33b7f56d",
   "metadata": {},
   "outputs": [
    {
     "name": "stdout",
     "output_type": "stream",
     "text": [
      "여러분, 안녕하세요\n",
      "Translated(src=ko, dest=ko, text=여러분, 안녕하세요, pronunciation=yeoleobun, annyeonghaseyo, extra_data=\"{'confiden...\")\n"
     ]
    }
   ],
   "source": [
    "lang = 'ko'\n",
    "A=translator.translate(listenTo(),lang).text\n",
    "speak(A,lang)\n",
    "print(A)\n",
    "B=translator.translate(A,dest='ko')\n",
    "print(B)"
   ]
  },
  {
   "cell_type": "code",
   "execution_count": 16,
   "id": "dd4dfece-04b5-4fce-8478-a893ce0d5115",
   "metadata": {},
   "outputs": [
    {
     "name": "stdout",
     "output_type": "stream",
     "text": [
      "{'afrikaans': 'af',\n",
      " 'albanian': 'sq',\n",
      " 'amharic': 'am',\n",
      " 'arabic': 'ar',\n",
      " 'armenian': 'hy',\n",
      " 'azerbaijani': 'az',\n",
      " 'basque': 'eu',\n",
      " 'belarusian': 'be',\n",
      " 'bengali': 'bn',\n",
      " 'bosnian': 'bs',\n",
      " 'bulgarian': 'bg',\n",
      " 'catalan': 'ca',\n",
      " 'cebuano': 'ceb',\n",
      " 'chichewa': 'ny',\n",
      " 'chinese (simplified)': 'zh-cn',\n",
      " 'chinese (traditional)': 'zh-tw',\n",
      " 'corsican': 'co',\n",
      " 'croatian': 'hr',\n",
      " 'czech': 'cs',\n",
      " 'danish': 'da',\n",
      " 'dutch': 'nl',\n",
      " 'english': 'en',\n",
      " 'esperanto': 'eo',\n",
      " 'estonian': 'et',\n",
      " 'filipino': 'tl',\n",
      " 'finnish': 'fi',\n",
      " 'french': 'fr',\n",
      " 'frisian': 'fy',\n",
      " 'galician': 'gl',\n",
      " 'georgian': 'ka',\n",
      " 'german': 'de',\n",
      " 'greek': 'el',\n",
      " 'gujarati': 'gu',\n",
      " 'haitian creole': 'ht',\n",
      " 'hausa': 'ha',\n",
      " 'hawaiian': 'haw',\n",
      " 'hebrew': 'he',\n",
      " 'hindi': 'hi',\n",
      " 'hmong': 'hmn',\n",
      " 'hungarian': 'hu',\n",
      " 'icelandic': 'is',\n",
      " 'igbo': 'ig',\n",
      " 'indonesian': 'id',\n",
      " 'irish': 'ga',\n",
      " 'italian': 'it',\n",
      " 'japanese': 'ja',\n",
      " 'javanese': 'jw',\n",
      " 'kannada': 'kn',\n",
      " 'kazakh': 'kk',\n",
      " 'khmer': 'km',\n",
      " 'korean': 'ko',\n",
      " 'kurdish (kurmanji)': 'ku',\n",
      " 'kyrgyz': 'ky',\n",
      " 'lao': 'lo',\n",
      " 'latin': 'la',\n",
      " 'latvian': 'lv',\n",
      " 'lithuanian': 'lt',\n",
      " 'luxembourgish': 'lb',\n",
      " 'macedonian': 'mk',\n",
      " 'malagasy': 'mg',\n",
      " 'malay': 'ms',\n",
      " 'malayalam': 'ml',\n",
      " 'maltese': 'mt',\n",
      " 'maori': 'mi',\n",
      " 'marathi': 'mr',\n",
      " 'mongolian': 'mn',\n",
      " 'myanmar (burmese)': 'my',\n",
      " 'nepali': 'ne',\n",
      " 'norwegian': 'no',\n",
      " 'odia': 'or',\n",
      " 'pashto': 'ps',\n",
      " 'persian': 'fa',\n",
      " 'polish': 'pl',\n",
      " 'portuguese': 'pt',\n",
      " 'punjabi': 'pa',\n",
      " 'romanian': 'ro',\n",
      " 'russian': 'ru',\n",
      " 'samoan': 'sm',\n",
      " 'scots gaelic': 'gd',\n",
      " 'serbian': 'sr',\n",
      " 'sesotho': 'st',\n",
      " 'shona': 'sn',\n",
      " 'sindhi': 'sd',\n",
      " 'sinhala': 'si',\n",
      " 'slovak': 'sk',\n",
      " 'slovenian': 'sl',\n",
      " 'somali': 'so',\n",
      " 'spanish': 'es',\n",
      " 'sundanese': 'su',\n",
      " 'swahili': 'sw',\n",
      " 'swedish': 'sv',\n",
      " 'tajik': 'tg',\n",
      " 'tamil': 'ta',\n",
      " 'telugu': 'te',\n",
      " 'thai': 'th',\n",
      " 'turkish': 'tr',\n",
      " 'ukrainian': 'uk',\n",
      " 'urdu': 'ur',\n",
      " 'uyghur': 'ug',\n",
      " 'uzbek': 'uz',\n",
      " 'vietnamese': 'vi',\n",
      " 'welsh': 'cy',\n",
      " 'xhosa': 'xh',\n",
      " 'yiddish': 'yi',\n",
      " 'yoruba': 'yo',\n",
      " 'zulu': 'zu'}\n"
     ]
    }
   ],
   "source": [
    "import googletrans\n",
    "from pprint import pprint\n",
    "pprint(googletrans.LANGCODES)"
   ]
  },
  {
   "cell_type": "code",
   "execution_count": 21,
   "id": "2fbe328a-7155-4424-a689-f4ae16b04328",
   "metadata": {},
   "outputs": [
    {
     "name": "stdout",
     "output_type": "stream",
     "text": [
      "Detected(lang=ja, confidence=None)\n",
      "ja\n"
     ]
    }
   ],
   "source": [
    "unknown_sentence = 'おはよう'\n",
    "results = translator.detect(unknown_sentence)\n",
    "print(results)\n",
    "print(results.lang)"
   ]
  },
  {
   "cell_type": "code",
   "execution_count": null,
   "id": "172b4d76-f96d-4516-a402-6b00d50e0159",
   "metadata": {},
   "outputs": [],
   "source": []
  }
 ],
 "metadata": {
  "kernelspec": {
   "display_name": "Python 3 (ipykernel)",
   "language": "python",
   "name": "python3"
  },
  "language_info": {
   "codemirror_mode": {
    "name": "ipython",
    "version": 3
   },
   "file_extension": ".py",
   "mimetype": "text/x-python",
   "name": "python",
   "nbconvert_exporter": "python",
   "pygments_lexer": "ipython3",
   "version": "3.11.7"
  }
 },
 "nbformat": 4,
 "nbformat_minor": 5
}
