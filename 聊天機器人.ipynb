{
 "cells": [
  {
   "cell_type": "code",
   "execution_count": 1,
   "id": "852a1272-e52c-4502-8b01-21c5dec36b98",
   "metadata": {},
   "outputs": [
    {
     "name": "stdout",
     "output_type": "stream",
     "text": [
      "Collecting winspeech\n",
      "  Downloading winspeech-1.0.1-py2.py3-none-any.whl.metadata (2.2 kB)\n",
      "Requirement already satisfied: pywin32 in c:\\users\\a2790\\anaconda3\\envs\\notebook-7.0.8\\lib\\site-packages (from winspeech) (305.1)\n",
      "Downloading winspeech-1.0.1-py2.py3-none-any.whl (6.9 kB)\n",
      "Installing collected packages: winspeech\n",
      "Successfully installed winspeech-1.0.1\n"
     ]
    }
   ],
   "source": [
    "!pip install winspeech"
   ]
  },
  {
   "cell_type": "code",
   "execution_count": 2,
   "id": "0b4545a6-75cd-446b-864e-dbf4492cb76f",
   "metadata": {},
   "outputs": [
    {
     "name": "stdout",
     "output_type": "stream",
     "text": [
      "Requirement already satisfied: SpeechRecognition in c:\\users\\a2790\\anaconda3\\envs\\notebook-7.0.8\\lib\\site-packages (3.10.4)\n",
      "Requirement already satisfied: requests>=2.26.0 in c:\\users\\a2790\\anaconda3\\envs\\notebook-7.0.8\\lib\\site-packages (from SpeechRecognition) (2.31.0)\n",
      "Requirement already satisfied: typing-extensions in c:\\users\\a2790\\anaconda3\\envs\\notebook-7.0.8\\lib\\site-packages (from SpeechRecognition) (4.9.0)\n",
      "Requirement already satisfied: charset-normalizer<4,>=2 in c:\\users\\a2790\\anaconda3\\envs\\notebook-7.0.8\\lib\\site-packages (from requests>=2.26.0->SpeechRecognition) (2.0.4)\n",
      "Requirement already satisfied: idna<4,>=2.5 in c:\\users\\a2790\\anaconda3\\envs\\notebook-7.0.8\\lib\\site-packages (from requests>=2.26.0->SpeechRecognition) (3.7)\n",
      "Requirement already satisfied: urllib3<3,>=1.21.1 in c:\\users\\a2790\\anaconda3\\envs\\notebook-7.0.8\\lib\\site-packages (from requests>=2.26.0->SpeechRecognition) (2.1.0)\n",
      "Requirement already satisfied: certifi>=2017.4.17 in c:\\users\\a2790\\anaconda3\\envs\\notebook-7.0.8\\lib\\site-packages (from requests>=2.26.0->SpeechRecognition) (2024.2.2)\n"
     ]
    }
   ],
   "source": [
    "!pip install SpeechRecognition"
   ]
  },
  {
   "cell_type": "code",
   "execution_count": 3,
   "id": "9c305b36-503d-4af3-b0be-9c2ad9c89037",
   "metadata": {},
   "outputs": [
    {
     "name": "stdout",
     "output_type": "stream",
     "text": [
      "Collecting pipwin\n",
      "  Downloading pipwin-0.5.2.tar.gz (7.9 kB)\n",
      "  Preparing metadata (setup.py): started\n",
      "  Preparing metadata (setup.py): finished with status 'done'\n",
      "Collecting docopt (from pipwin)\n",
      "  Downloading docopt-0.6.2.tar.gz (25 kB)\n",
      "  Preparing metadata (setup.py): started\n",
      "  Preparing metadata (setup.py): finished with status 'done'\n",
      "Requirement already satisfied: requests in c:\\users\\a2790\\anaconda3\\envs\\notebook-7.0.8\\lib\\site-packages (from pipwin) (2.31.0)\n",
      "Collecting pyprind (from pipwin)\n",
      "  Downloading PyPrind-2.11.3-py2.py3-none-any.whl.metadata (1.1 kB)\n",
      "Requirement already satisfied: six in c:\\users\\a2790\\anaconda3\\envs\\notebook-7.0.8\\lib\\site-packages (from pipwin) (1.16.0)\n",
      "Requirement already satisfied: beautifulsoup4>=4.9.0 in c:\\users\\a2790\\anaconda3\\envs\\notebook-7.0.8\\lib\\site-packages (from pipwin) (4.12.2)\n",
      "Collecting js2py (from pipwin)\n",
      "  Downloading Js2Py-0.74-py3-none-any.whl.metadata (868 bytes)\n",
      "Requirement already satisfied: packaging in c:\\users\\a2790\\anaconda3\\envs\\notebook-7.0.8\\lib\\site-packages (from pipwin) (23.2)\n",
      "Collecting pySmartDL>=1.3.1 (from pipwin)\n",
      "  Downloading pySmartDL-1.3.4-py3-none-any.whl.metadata (2.8 kB)\n",
      "Requirement already satisfied: soupsieve>1.2 in c:\\users\\a2790\\anaconda3\\envs\\notebook-7.0.8\\lib\\site-packages (from beautifulsoup4>=4.9.0->pipwin) (2.5)\n",
      "Collecting tzlocal>=1.2 (from js2py->pipwin)\n",
      "  Downloading tzlocal-5.2-py3-none-any.whl.metadata (7.8 kB)\n",
      "Collecting pyjsparser>=2.5.1 (from js2py->pipwin)\n",
      "  Downloading pyjsparser-2.7.1.tar.gz (24 kB)\n",
      "  Preparing metadata (setup.py): started\n",
      "  Preparing metadata (setup.py): finished with status 'done'\n",
      "Requirement already satisfied: charset-normalizer<4,>=2 in c:\\users\\a2790\\anaconda3\\envs\\notebook-7.0.8\\lib\\site-packages (from requests->pipwin) (2.0.4)\n",
      "Requirement already satisfied: idna<4,>=2.5 in c:\\users\\a2790\\anaconda3\\envs\\notebook-7.0.8\\lib\\site-packages (from requests->pipwin) (3.7)\n",
      "Requirement already satisfied: urllib3<3,>=1.21.1 in c:\\users\\a2790\\anaconda3\\envs\\notebook-7.0.8\\lib\\site-packages (from requests->pipwin) (2.1.0)\n",
      "Requirement already satisfied: certifi>=2017.4.17 in c:\\users\\a2790\\anaconda3\\envs\\notebook-7.0.8\\lib\\site-packages (from requests->pipwin) (2024.2.2)\n",
      "Collecting tzdata (from tzlocal>=1.2->js2py->pipwin)\n",
      "  Using cached tzdata-2024.1-py2.py3-none-any.whl.metadata (1.4 kB)\n",
      "Downloading pySmartDL-1.3.4-py3-none-any.whl (20 kB)\n",
      "Downloading Js2Py-0.74-py3-none-any.whl (1.0 MB)\n",
      "   ---------------------------------------- 0.0/1.0 MB ? eta -:--:--\n",
      "   - -------------------------------------- 0.0/1.0 MB 1.9 MB/s eta 0:00:01\n",
      "   ---- ----------------------------------- 0.1/1.0 MB 1.3 MB/s eta 0:00:01\n",
      "   ------- -------------------------------- 0.2/1.0 MB 1.7 MB/s eta 0:00:01\n",
      "   ------------- -------------------------- 0.3/1.0 MB 2.1 MB/s eta 0:00:01\n",
      "   --------------------- ------------------ 0.6/1.0 MB 2.7 MB/s eta 0:00:01\n",
      "   ---------------------------------- ----- 0.9/1.0 MB 3.3 MB/s eta 0:00:01\n",
      "   ---------------------------------------- 1.0/1.0 MB 3.6 MB/s eta 0:00:00\n",
      "Downloading PyPrind-2.11.3-py2.py3-none-any.whl (8.4 kB)\n",
      "Downloading tzlocal-5.2-py3-none-any.whl (17 kB)\n",
      "Using cached tzdata-2024.1-py2.py3-none-any.whl (345 kB)\n",
      "Building wheels for collected packages: pipwin, docopt, pyjsparser\n",
      "  Building wheel for pipwin (setup.py): started\n",
      "  Building wheel for pipwin (setup.py): finished with status 'done'\n",
      "  Created wheel for pipwin: filename=pipwin-0.5.2-py2.py3-none-any.whl size=8794 sha256=f5160b82efeb647a3554f869a24ca63a1ba31b95acc70b4ece14d473360de852\n",
      "  Stored in directory: c:\\users\\a2790\\appdata\\local\\pip\\cache\\wheels\\e8\\b5\\1d\\b94f69a230c016fe50ed36399dec48b34b82a11e4f344e9ccb\n",
      "  Building wheel for docopt (setup.py): started\n",
      "  Building wheel for docopt (setup.py): finished with status 'done'\n",
      "  Created wheel for docopt: filename=docopt-0.6.2-py2.py3-none-any.whl size=13773 sha256=9f5b0c5d4e44ab9db47191a208bbc20879c37ca065fd8de5621918591cfc9f7a\n",
      "  Stored in directory: c:\\users\\a2790\\appdata\\local\\pip\\cache\\wheels\\1a\\bf\\a1\\4cee4f7678c68c5875ca89eaccf460593539805c3906722228\n",
      "  Building wheel for pyjsparser (setup.py): started\n",
      "  Building wheel for pyjsparser (setup.py): finished with status 'done'\n",
      "  Created wheel for pyjsparser: filename=pyjsparser-2.7.1-py3-none-any.whl size=25991 sha256=db40b28c3618983bdffe4d331907b8bf222d9cedfeb50ad5b47c522ba5c231a8\n",
      "  Stored in directory: c:\\users\\a2790\\appdata\\local\\pip\\cache\\wheels\\14\\32\\1d\\9ef7b582e358446aeef4b9052aa89ef4dffa1688c1aae8aa13\n",
      "Successfully built pipwin docopt pyjsparser\n",
      "Installing collected packages: pySmartDL, pyprind, pyjsparser, docopt, tzdata, tzlocal, js2py, pipwin\n",
      "Successfully installed docopt-0.6.2 js2py-0.74 pipwin-0.5.2 pySmartDL-1.3.4 pyjsparser-2.7.1 pyprind-2.11.3 tzdata-2024.1 tzlocal-5.2\n"
     ]
    }
   ],
   "source": [
    "!pip install pipwin"
   ]
  },
  {
   "cell_type": "code",
   "execution_count": 6,
   "id": "2a8a98f9-4e52-4d66-a9d2-88e160bcb2fb",
   "metadata": {},
   "outputs": [
    {
     "name": "stdout",
     "output_type": "stream",
     "text": [
      "Requirement already satisfied: pyaudio in c:\\users\\a2790\\anaconda3\\envs\\notebook-7.0.8\\lib\\site-packages (0.2.14)\n"
     ]
    }
   ],
   "source": [
    "!pip install pyaudio"
   ]
  },
  {
   "cell_type": "code",
   "execution_count": 14,
   "id": "916a931d-2419-442f-9e00-6e06a86bccc9",
   "metadata": {},
   "outputs": [],
   "source": [
    "import speech_recognition\n",
    "def listenTo():\n",
    "    r=speech_recognition.Recognizer()\n",
    "    with speech_recognition.Microphone()as source:\n",
    "        r.adjust_for_ambient_noise(source)\n",
    "        audio=r.listen(source)\n",
    "        return r.recognize_google(audio,language='zh-TW')"
   ]
  },
  {
   "cell_type": "code",
   "execution_count": 15,
   "id": "d98c7cec-fd15-49e6-906c-b36a17e274a2",
   "metadata": {},
   "outputs": [],
   "source": [
    "import tempfile\n",
    "from gtts import gTTS\n",
    "from pygame import mixer\n",
    "mixer.init()"
   ]
  },
  {
   "cell_type": "code",
   "execution_count": 19,
   "id": "aae77346-e5b0-478a-96eb-d916d1c45344",
   "metadata": {},
   "outputs": [],
   "source": [
    "def speak(sentence):\n",
    "    with tempfile.NamedTemporaryFile(delete=True)as fp:\n",
    "        tts=gTTS(text=sentence,lang='zh-TW')\n",
    "        tts.save(\"{}.mp3\".format(fp.name))\n",
    "        mixer.music.load('{}.mp3'.format(fp.name))\n",
    "        mixer.music.play()\n",
    "\n",
    "speak('大家好')"
   ]
  },
  {
   "cell_type": "code",
   "execution_count": 32,
   "id": "2a1ac316-13b4-410e-9cbe-0edea78e28b5",
   "metadata": {},
   "outputs": [],
   "source": [
    "qa={'你叫什麼名字':'我叫谷歌妹','請問今年幾歲':'小女今年20歲','最喜歡的人是誰':'方仁威'}"
   ]
  },
  {
   "cell_type": "code",
   "execution_count": 33,
   "id": "7021a3e8-33bb-44b5-9080-fc00d6af353d",
   "metadata": {},
   "outputs": [],
   "source": [
    "speak(qa.get(listenTo(),'聽不懂,再講一次'))"
   ]
  },
  {
   "cell_type": "code",
   "execution_count": null,
   "id": "754f4b4b-636d-43c1-8f5f-492decedab34",
   "metadata": {},
   "outputs": [],
   "source": []
  }
 ],
 "metadata": {
  "kernelspec": {
   "display_name": "Python 3 (ipykernel)",
   "language": "python",
   "name": "python3"
  },
  "language_info": {
   "codemirror_mode": {
    "name": "ipython",
    "version": 3
   },
   "file_extension": ".py",
   "mimetype": "text/x-python",
   "name": "python",
   "nbconvert_exporter": "python",
   "pygments_lexer": "ipython3",
   "version": "3.11.7"
  }
 },
 "nbformat": 4,
 "nbformat_minor": 5
}
